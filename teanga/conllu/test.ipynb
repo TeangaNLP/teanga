{
 "cells": [
  {
   "cell_type": "code",
   "execution_count": 3,
   "metadata": {},
   "outputs": [],
   "source": [
    "TEANGA_1 = \"\"\"_meta:\n",
    "  text:\n",
    "    type: characters\n",
    "  tokens:\n",
    "    base: text\n",
    "    type: span\n",
    "  comm:\n",
    "    base: text\n",
    "    type: characters\n",
    "    data: string\n",
    "  upos:\n",
    "    data: [\"ADJ\", \"ADP\", \"ADV\", \"AUX\", \"CCONJ\", \"DET\", \"INTJ\", \"NOUN\", \"NUM\", \"PART\", \"PRON\", \"PROPN\", \"PUNCT\", \"SCONJ\", \"VERB\", \"X\" ]\n",
    "    base: tokens\n",
    "    type: seq\n",
    "OvM2:\n",
    "  text: _Bhojpuri text_\n",
    "  tokens: [[0, 7], [8, 9], [10, 20], [21, 24], [25, 26]]\n",
    "  comm: lokaraṁjana ā sāṁskrtika gīta -\n",
    "  upos: [\"NOUN\", \"CCONJ\", \"ADJ\", \"NOUN\", \"PUNCT\" ]\n",
    "cN0V:\n",
    "  text: _Bhojpuri text_\n",
    "  tokens: [[0, 3], [4, 5], [6, 13], [14, 17], [18, 19]]\n",
    "  comm: āīṁ ā saparivāra āīṁ .\n",
    "  upos: [\"VERB\", \"CCONJ\", \"NOUN\", \"VERB\", \"PUNCT\" ]\"\"\"\n",
    "\n",
    "CONLLU_2 = \"\"\"# newdoc id = n01001\n",
    "# sent_id = n01001011\n",
    "# text = “While much of the digital transition is unprecedented in \n",
    "2\tWhile\twhile\tSCONJ\tIN\t_\t9\tmark\t9:mark\t_\n",
    "3\tmuch\tmuch\tADJ\tJJ\tDegree=Pos\t9\tnsubj\t9:nsubj\t_\n",
    "4\tof\tof\tADP\tIN\t_\t7\tcase\t7:case\t_\n",
    "5\tthe\tthe\tDET\tDT\tDefinite=Def|PronType=Art\t7\tdet\t7:det\t_\n",
    "6\tdigital\tdigital\tADJ\tJJ\tDegree=Pos\t7\tamod\t7:amod\t_\n",
    "7\ttransition\ttransition\tNOUN\tNN\tNumber=Sing\t3\tnmod\t3:nmod:of\t_\n",
    "8\tis\tbe\tAUX\tVBZ\tMood=Ind|Number=Sing|Person=3|Tense=Pres|VerbForm=Fin\t9\tcop\t9:cop\t_\n",
    "9\tunprecedented\tunprecedented\tADJ\tJJ\tDegree=Pos\t20\tadvcl\t20:advcl:while\t_\n",
    "10\tin\tin\tADP\tIN\t_\t13\tcase\t13:case\t_\n",
    "\"\"\""
   ]
  },
  {
   "cell_type": "code",
   "execution_count": 4,
   "metadata": {},
   "outputs": [],
   "source": [
    "import sys\n",
    "\n",
    "# sys.path.append('')\n",
    "import teanga\n",
    "import conllu"
   ]
  },
  {
   "cell_type": "code",
   "execution_count": 5,
   "metadata": {},
   "outputs": [],
   "source": [
    "from conllu import parse"
   ]
  },
  {
   "cell_type": "code",
   "execution_count": 2,
   "metadata": {},
   "outputs": [],
   "source": [
    "import teanga\n",
    "import sys\n",
    "import typing\n",
    "import logging\n",
    "from collections import OrderedDict\n",
    "\n",
    "import conllu\n",
    "import yaml\n",
    "\n",
    "\n",
    "def read_conllu_str(s : str, db: str=None) -> teanga.Corpus:\n",
    "    \"\"\"Read a CoNLL-U string and return a Teanga Corpus object.\n",
    "\n",
    "    Args:\n",
    "\n",
    "    s: str\n",
    "    The CoNLL-U string to read.\n",
    "    db: str\n",
    "    The DB location to use of the Teanga corpus\n",
    "    \"\"\"\n",
    "    corpus = teanga.Corpus(db)\n",
    "    corpus.\n",
    "\n",
    "\n",
    "    return corpus\n",
    "\n",
    "def read_conllu_file(file : str, db: str=None) -> teanga.Corpus:\n",
    "    \"\"\"Read a CoNLL-U file and return a Teanga Corpus object.\n",
    "\n",
    "    Args:\n",
    "\n",
    "    file: str\n",
    "        The CoNLL-U file to read.\n",
    "    db: str\n",
    "        The DB location to use of the Teanga corpus\n",
    "    \"\"\"\n",
    "    corpus = teanga.Corpus(db)\n",
    "\n",
    "    ### Do all the CoNLL stuff\n",
    "\n",
    "    return corpus\n"
   ]
  },
  {
   "cell_type": "markdown",
   "metadata": {},
   "source": [
    "```python\n",
    " corpus.add_layer_meta(\"text\")\n",
    "        >>> corpus.add_layer_meta(\"words\", layer_type=\"span\", base=\"text\")\n",
    "        >>> corpus.add_layer_meta(\"pos\", layer_type=\"seq\", base=\"words\",\n",
    "        ...                        data=[\"NOUN\", \"VERB\", \"ADJ\"])\n",
    "        >>> corpus.add_layer_meta(\"lemma\", layer_type=\"seq\", base=\"words\",\n",
    "        ...                        data=\"string\")\n",
    "        >>> doc = corpus.add_doc(\"Colorless green ideas sleep furiously.\")\n",
    "        >>> doc.words = [(0, 9), (10, 15), (16, 21), (22, 27), (28, 37)]\n",
    "        >>> doc.pos = [\"ADJ\", \"ADJ\", \"NOUN\", \"VERB\", \"ADV\"]\n",
    "        >>> doc.lemma = [\"colorless\", \"green\", \"idea\", \"sleep\", \"furiously\"]\n",
    "```"
   ]
  },
  {
   "cell_type": "code",
   "execution_count": 21,
   "metadata": {},
   "outputs": [],
   "source": [
    "corpus = teanga.Corpus(None)"
   ]
  },
  {
   "cell_type": "code",
   "execution_count": 22,
   "metadata": {},
   "outputs": [],
   "source": [
    "parsed_col = parse(CONLLU_2)"
   ]
  },
  {
   "cell_type": "code",
   "execution_count": null,
   "metadata": {},
   "outputs": [],
   "source": []
  }
 ],
 "metadata": {
  "kernelspec": {
   "display_name": "Teanga",
   "language": "python",
   "name": "python3"
  },
  "language_info": {
   "codemirror_mode": {
    "name": "ipython",
    "version": 3
   },
   "file_extension": ".py",
   "mimetype": "text/x-python",
   "name": "python",
   "nbconvert_exporter": "python",
   "pygments_lexer": "ipython3",
   "version": "3.12.4"
  }
 },
 "nbformat": 4,
 "nbformat_minor": 2
}
